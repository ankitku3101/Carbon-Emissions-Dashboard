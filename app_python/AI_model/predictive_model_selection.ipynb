{
 "cells": [
  {
   "cell_type": "markdown",
   "metadata": {},
   "source": [
    "### Step 1: Load & Preprocess Data"
   ]
  },
  {
   "cell_type": "code",
   "execution_count": 1,
   "metadata": {},
   "outputs": [],
   "source": [
    "import pandas as pd\n",
    "import numpy as np\n",
    "from sklearn.model_selection import train_test_split\n",
    "from sklearn.preprocessing import StandardScaler, OneHotEncoder\n",
    "from sklearn.compose import ColumnTransformer\n",
    "from sklearn.pipeline import Pipeline"
   ]
  },
  {
   "cell_type": "code",
   "execution_count": 2,
   "metadata": {},
   "outputs": [],
   "source": [
    "# Loading data\n",
    "df = pd.read_csv(\"D:\\Carbon-Emissions-Dashboard\\dataset\\coal_train_data.csv\")"
   ]
  },
  {
   "cell_type": "code",
   "execution_count": 3,
   "metadata": {},
   "outputs": [
    {
     "data": {
      "text/html": [
       "<div>\n",
       "<style scoped>\n",
       "    .dataframe tbody tr th:only-of-type {\n",
       "        vertical-align: middle;\n",
       "    }\n",
       "\n",
       "    .dataframe tbody tr th {\n",
       "        vertical-align: top;\n",
       "    }\n",
       "\n",
       "    .dataframe thead th {\n",
       "        text-align: right;\n",
       "    }\n",
       "</style>\n",
       "<table border=\"1\" class=\"dataframe\">\n",
       "  <thead>\n",
       "    <tr style=\"text-align: right;\">\n",
       "      <th></th>\n",
       "      <th>coaltype</th>\n",
       "      <th>gcv</th>\n",
       "      <th>burntamount</th>\n",
       "      <th>plf</th>\n",
       "      <th>production</th>\n",
       "      <th>totalemission</th>\n",
       "    </tr>\n",
       "  </thead>\n",
       "  <tbody>\n",
       "    <tr>\n",
       "      <th>0</th>\n",
       "      <td>anthracite</td>\n",
       "      <td>4139.64</td>\n",
       "      <td>76.31</td>\n",
       "      <td>51.85</td>\n",
       "      <td>3468</td>\n",
       "      <td>2647902.63</td>\n",
       "    </tr>\n",
       "    <tr>\n",
       "      <th>1</th>\n",
       "      <td>bituminous</td>\n",
       "      <td>3377.47</td>\n",
       "      <td>383.92</td>\n",
       "      <td>51.85</td>\n",
       "      <td>3468</td>\n",
       "      <td>2647902.63</td>\n",
       "    </tr>\n",
       "    <tr>\n",
       "      <th>2</th>\n",
       "      <td>lignite</td>\n",
       "      <td>4080.50</td>\n",
       "      <td>185.83</td>\n",
       "      <td>73.94</td>\n",
       "      <td>2797</td>\n",
       "      <td>2181449.04</td>\n",
       "    </tr>\n",
       "    <tr>\n",
       "      <th>3</th>\n",
       "      <td>lignite</td>\n",
       "      <td>4577.27</td>\n",
       "      <td>321.20</td>\n",
       "      <td>73.94</td>\n",
       "      <td>2797</td>\n",
       "      <td>2181449.04</td>\n",
       "    </tr>\n",
       "    <tr>\n",
       "      <th>4</th>\n",
       "      <td>anthracite</td>\n",
       "      <td>4645.92</td>\n",
       "      <td>384.16</td>\n",
       "      <td>80.82</td>\n",
       "      <td>1989</td>\n",
       "      <td>1496548.92</td>\n",
       "    </tr>\n",
       "    <tr>\n",
       "      <th>...</th>\n",
       "      <td>...</td>\n",
       "      <td>...</td>\n",
       "      <td>...</td>\n",
       "      <td>...</td>\n",
       "      <td>...</td>\n",
       "      <td>...</td>\n",
       "    </tr>\n",
       "    <tr>\n",
       "      <th>89</th>\n",
       "      <td>bituminous</td>\n",
       "      <td>5058.67</td>\n",
       "      <td>230.91</td>\n",
       "      <td>77.23</td>\n",
       "      <td>3842</td>\n",
       "      <td>3099651.13</td>\n",
       "    </tr>\n",
       "    <tr>\n",
       "      <th>90</th>\n",
       "      <td>anthracite</td>\n",
       "      <td>4518.99</td>\n",
       "      <td>164.44</td>\n",
       "      <td>77.23</td>\n",
       "      <td>3842</td>\n",
       "      <td>3099651.13</td>\n",
       "    </tr>\n",
       "    <tr>\n",
       "      <th>91</th>\n",
       "      <td>anthracite</td>\n",
       "      <td>5521.30</td>\n",
       "      <td>196.52</td>\n",
       "      <td>57.31</td>\n",
       "      <td>1138</td>\n",
       "      <td>937609.37</td>\n",
       "    </tr>\n",
       "    <tr>\n",
       "      <th>92</th>\n",
       "      <td>bituminous</td>\n",
       "      <td>5140.67</td>\n",
       "      <td>104.17</td>\n",
       "      <td>57.31</td>\n",
       "      <td>1138</td>\n",
       "      <td>937609.37</td>\n",
       "    </tr>\n",
       "    <tr>\n",
       "      <th>93</th>\n",
       "      <td>lignite</td>\n",
       "      <td>5007.47</td>\n",
       "      <td>180.61</td>\n",
       "      <td>71.20</td>\n",
       "      <td>3298</td>\n",
       "      <td>2798816.92</td>\n",
       "    </tr>\n",
       "  </tbody>\n",
       "</table>\n",
       "<p>94 rows × 6 columns</p>\n",
       "</div>"
      ],
      "text/plain": [
       "      coaltype      gcv  burntamount    plf  production  totalemission\n",
       "0   anthracite  4139.64        76.31  51.85        3468     2647902.63\n",
       "1   bituminous  3377.47       383.92  51.85        3468     2647902.63\n",
       "2      lignite  4080.50       185.83  73.94        2797     2181449.04\n",
       "3      lignite  4577.27       321.20  73.94        2797     2181449.04\n",
       "4   anthracite  4645.92       384.16  80.82        1989     1496548.92\n",
       "..         ...      ...          ...    ...         ...            ...\n",
       "89  bituminous  5058.67       230.91  77.23        3842     3099651.13\n",
       "90  anthracite  4518.99       164.44  77.23        3842     3099651.13\n",
       "91  anthracite  5521.30       196.52  57.31        1138      937609.37\n",
       "92  bituminous  5140.67       104.17  57.31        1138      937609.37\n",
       "93     lignite  5007.47       180.61  71.20        3298     2798816.92\n",
       "\n",
       "[94 rows x 6 columns]"
      ]
     },
     "execution_count": 3,
     "metadata": {},
     "output_type": "execute_result"
    }
   ],
   "source": [
    "df"
   ]
  },
  {
   "cell_type": "code",
   "execution_count": 3,
   "metadata": {},
   "outputs": [],
   "source": [
    "# Defining Features(independent variables) & Target(dependent variables)\n",
    "X = df[['coaltype', 'gcv', 'burntamount', 'plf', 'production']]\n",
    "y = df['totalemission']  # Target variable"
   ]
  },
  {
   "cell_type": "code",
   "execution_count": 4,
   "metadata": {},
   "outputs": [],
   "source": [
    "# Train-Test Split\n",
    "X_train, X_test, y_train, y_test = train_test_split(X, y, test_size=0.2, random_state=42)"
   ]
  },
  {
   "cell_type": "code",
   "execution_count": 5,
   "metadata": {},
   "outputs": [],
   "source": [
    "# Preprocessing (One-Hot Encoding for 'coaltype' + Scaling for numeric features)\n",
    "num_features = ['gcv', 'burntamount', 'plf', 'production']\n",
    "cat_features = ['coaltype']\n",
    "\n",
    "preprocessor = ColumnTransformer([\n",
    "    ('num', StandardScaler(), num_features),\n",
    "    ('cat', OneHotEncoder(handle_unknown='ignore'), cat_features)\n",
    "])"
   ]
  },
  {
   "cell_type": "markdown",
   "metadata": {},
   "source": [
    "### Step 2: Train Multiple Models\n",
    "We'll compare: \n",
    "- Linear Regression – Simple baseline\n",
    "- Random Forest – Handles non-linearity well\n",
    "- XGBoost – Powerful boosting model\n",
    "- LSTM (Optional) – If treating this as a time-series problem"
   ]
  },
  {
   "cell_type": "code",
   "execution_count": 6,
   "metadata": {},
   "outputs": [],
   "source": [
    "from sklearn.linear_model import LinearRegression\n",
    "from sklearn.ensemble import RandomForestRegressor\n",
    "import xgboost as xgb\n",
    "from sklearn.metrics import mean_absolute_error, mean_squared_error, r2_score"
   ]
  },
  {
   "cell_type": "code",
   "execution_count": 7,
   "metadata": {},
   "outputs": [],
   "source": [
    "models = {\n",
    "    \"Linear Regression\": Pipeline([(\"preprocessor\", preprocessor), (\"model\", LinearRegression())]),\n",
    "    \"Random Forest\": Pipeline([(\"preprocessor\", preprocessor), (\"model\", RandomForestRegressor(n_estimators=100, random_state=42))]),\n",
    "    \"XGBoost\": Pipeline([(\"preprocessor\", preprocessor), (\"model\", xgb.XGBRegressor(n_estimators=100, random_state=42))])\n",
    "}"
   ]
  },
  {
   "cell_type": "code",
   "execution_count": 8,
   "metadata": {},
   "outputs": [],
   "source": [
    "# Train & Evaluate\n",
    "results = {}\n",
    "for name, model in models.items():\n",
    "    model.fit(X_train, y_train)\n",
    "    y_pred = model.predict(X_test)\n",
    "    \n",
    "    # Calculate Metrics\n",
    "    results[name] = {\n",
    "        \"MAE\": mean_absolute_error(y_test, y_pred),\n",
    "        \"MSE\": mean_squared_error(y_test, y_pred),\n",
    "        \"RMSE\": np.sqrt(mean_squared_error(y_test, y_pred)),\n",
    "        \"R2 Score\": r2_score(y_test, y_pred)\n",
    "    }"
   ]
  },
  {
   "cell_type": "code",
   "execution_count": 9,
   "metadata": {},
   "outputs": [
    {
     "name": "stdout",
     "output_type": "stream",
     "text": [
      "                            MAE           MSE           RMSE  R2 Score\n",
      "Linear Regression  43562.849049  2.900913e+09   53860.127869  0.997489\n",
      "Random Forest      70484.984263  1.056201e+10  102771.652607  0.990859\n",
      "XGBoost            70871.834539  1.316182e+10  114724.981794  0.988608\n"
     ]
    }
   ],
   "source": [
    "# Display Results\n",
    "results_df = pd.DataFrame(results).T\n",
    "print(results_df)"
   ]
  }
 ],
 "metadata": {
  "kernelspec": {
   "display_name": "Python 3",
   "language": "python",
   "name": "python3"
  },
  "language_info": {
   "codemirror_mode": {
    "name": "ipython",
    "version": 3
   },
   "file_extension": ".py",
   "mimetype": "text/x-python",
   "name": "python",
   "nbconvert_exporter": "python",
   "pygments_lexer": "ipython3",
   "version": "3.10.0"
  }
 },
 "nbformat": 4,
 "nbformat_minor": 2
}
